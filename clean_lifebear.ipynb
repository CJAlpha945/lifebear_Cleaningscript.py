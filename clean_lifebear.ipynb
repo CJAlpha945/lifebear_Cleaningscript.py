import pandas as pd

# Define the number of chunks (4 equal parts)
num_chunks = 4

# Load the dataset
df = pd.read_csv("/content/lifebear.csv.csv", sep=';', low_memory=True)

# Determine the chunk size based on the length of the dataset
chunk_size = len(df) // num_chunks

# Split the dataset into 4 chunks and save each chunk as a separate CSV file
for i in range(num_chunks):
    start_index = i * chunk_size
    end_index = (i + 1) * chunk_size if i < num_chunks - 1 else len(df)
    chunk = df.iloc[start_index:end_index]
    chunk.to_csv(f'/content/lifebear_dataset_chunk_{i+1}.csv', index=False)

print(f"The CSV file has been divided into {num_chunks} smaller portions.")
